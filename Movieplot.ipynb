{
  "nbformat": 4,
  "nbformat_minor": 0,
  "metadata": {
    "colab": {
      "provenance": []
    },
    "kernelspec": {
      "name": "python3",
      "display_name": "Python 3"
    },
    "language_info": {
      "name": "python"
    },
    "widgets": {
      "application/vnd.jupyter.widget-state+json": {
        "26a2c489d9b14bda8886ecf5ead3059b": {
          "model_module": "@jupyter-widgets/controls",
          "model_name": "HBoxModel",
          "model_module_version": "1.5.0",
          "state": {
            "_dom_classes": [],
            "_model_module": "@jupyter-widgets/controls",
            "_model_module_version": "1.5.0",
            "_model_name": "HBoxModel",
            "_view_count": null,
            "_view_module": "@jupyter-widgets/controls",
            "_view_module_version": "1.5.0",
            "_view_name": "HBoxView",
            "box_style": "",
            "children": [
              "IPY_MODEL_0e1357d6d5864993bbc70541ed1eee15",
              "IPY_MODEL_5a9bad9b0e8c4545ae1060a7a5cd1629",
              "IPY_MODEL_1c9a433efb5a446b9dccad4e153c293b"
            ],
            "layout": "IPY_MODEL_e032efd8c52c460eb14a9901650afd8e"
          }
        },
        "0e1357d6d5864993bbc70541ed1eee15": {
          "model_module": "@jupyter-widgets/controls",
          "model_name": "HTMLModel",
          "model_module_version": "1.5.0",
          "state": {
            "_dom_classes": [],
            "_model_module": "@jupyter-widgets/controls",
            "_model_module_version": "1.5.0",
            "_model_name": "HTMLModel",
            "_view_count": null,
            "_view_module": "@jupyter-widgets/controls",
            "_view_module_version": "1.5.0",
            "_view_name": "HTMLView",
            "description": "",
            "description_tooltip": null,
            "layout": "IPY_MODEL_f86c341fefdb447eaea2361f95361067",
            "placeholder": "​",
            "style": "IPY_MODEL_575df1dfa96140d088781a5ad959dfc7",
            "value": "100%"
          }
        },
        "5a9bad9b0e8c4545ae1060a7a5cd1629": {
          "model_module": "@jupyter-widgets/controls",
          "model_name": "FloatProgressModel",
          "model_module_version": "1.5.0",
          "state": {
            "_dom_classes": [],
            "_model_module": "@jupyter-widgets/controls",
            "_model_module_version": "1.5.0",
            "_model_name": "FloatProgressModel",
            "_view_count": null,
            "_view_module": "@jupyter-widgets/controls",
            "_view_module_version": "1.5.0",
            "_view_name": "ProgressView",
            "bar_style": "success",
            "description": "",
            "description_tooltip": null,
            "layout": "IPY_MODEL_ce101ff4181c44d7b62d00fb43b03af5",
            "max": 6721,
            "min": 0,
            "orientation": "horizontal",
            "style": "IPY_MODEL_001d85287d7741669ff484fd4bd9d32e",
            "value": 6721
          }
        },
        "1c9a433efb5a446b9dccad4e153c293b": {
          "model_module": "@jupyter-widgets/controls",
          "model_name": "HTMLModel",
          "model_module_version": "1.5.0",
          "state": {
            "_dom_classes": [],
            "_model_module": "@jupyter-widgets/controls",
            "_model_module_version": "1.5.0",
            "_model_name": "HTMLModel",
            "_view_count": null,
            "_view_module": "@jupyter-widgets/controls",
            "_view_module_version": "1.5.0",
            "_view_name": "HTMLView",
            "description": "",
            "description_tooltip": null,
            "layout": "IPY_MODEL_1c25a2f3a57741dfad7688e5500e6f7f",
            "placeholder": "​",
            "style": "IPY_MODEL_ca430232a17048af812a37e74e23d175",
            "value": " 6721/6721 [1:04:41&lt;00:00,  2.62it/s]"
          }
        },
        "e032efd8c52c460eb14a9901650afd8e": {
          "model_module": "@jupyter-widgets/base",
          "model_name": "LayoutModel",
          "model_module_version": "1.2.0",
          "state": {
            "_model_module": "@jupyter-widgets/base",
            "_model_module_version": "1.2.0",
            "_model_name": "LayoutModel",
            "_view_count": null,
            "_view_module": "@jupyter-widgets/base",
            "_view_module_version": "1.2.0",
            "_view_name": "LayoutView",
            "align_content": null,
            "align_items": null,
            "align_self": null,
            "border": null,
            "bottom": null,
            "display": null,
            "flex": null,
            "flex_flow": null,
            "grid_area": null,
            "grid_auto_columns": null,
            "grid_auto_flow": null,
            "grid_auto_rows": null,
            "grid_column": null,
            "grid_gap": null,
            "grid_row": null,
            "grid_template_areas": null,
            "grid_template_columns": null,
            "grid_template_rows": null,
            "height": null,
            "justify_content": null,
            "justify_items": null,
            "left": null,
            "margin": null,
            "max_height": null,
            "max_width": null,
            "min_height": null,
            "min_width": null,
            "object_fit": null,
            "object_position": null,
            "order": null,
            "overflow": null,
            "overflow_x": null,
            "overflow_y": null,
            "padding": null,
            "right": null,
            "top": null,
            "visibility": null,
            "width": null
          }
        },
        "f86c341fefdb447eaea2361f95361067": {
          "model_module": "@jupyter-widgets/base",
          "model_name": "LayoutModel",
          "model_module_version": "1.2.0",
          "state": {
            "_model_module": "@jupyter-widgets/base",
            "_model_module_version": "1.2.0",
            "_model_name": "LayoutModel",
            "_view_count": null,
            "_view_module": "@jupyter-widgets/base",
            "_view_module_version": "1.2.0",
            "_view_name": "LayoutView",
            "align_content": null,
            "align_items": null,
            "align_self": null,
            "border": null,
            "bottom": null,
            "display": null,
            "flex": null,
            "flex_flow": null,
            "grid_area": null,
            "grid_auto_columns": null,
            "grid_auto_flow": null,
            "grid_auto_rows": null,
            "grid_column": null,
            "grid_gap": null,
            "grid_row": null,
            "grid_template_areas": null,
            "grid_template_columns": null,
            "grid_template_rows": null,
            "height": null,
            "justify_content": null,
            "justify_items": null,
            "left": null,
            "margin": null,
            "max_height": null,
            "max_width": null,
            "min_height": null,
            "min_width": null,
            "object_fit": null,
            "object_position": null,
            "order": null,
            "overflow": null,
            "overflow_x": null,
            "overflow_y": null,
            "padding": null,
            "right": null,
            "top": null,
            "visibility": null,
            "width": null
          }
        },
        "575df1dfa96140d088781a5ad959dfc7": {
          "model_module": "@jupyter-widgets/controls",
          "model_name": "DescriptionStyleModel",
          "model_module_version": "1.5.0",
          "state": {
            "_model_module": "@jupyter-widgets/controls",
            "_model_module_version": "1.5.0",
            "_model_name": "DescriptionStyleModel",
            "_view_count": null,
            "_view_module": "@jupyter-widgets/base",
            "_view_module_version": "1.2.0",
            "_view_name": "StyleView",
            "description_width": ""
          }
        },
        "ce101ff4181c44d7b62d00fb43b03af5": {
          "model_module": "@jupyter-widgets/base",
          "model_name": "LayoutModel",
          "model_module_version": "1.2.0",
          "state": {
            "_model_module": "@jupyter-widgets/base",
            "_model_module_version": "1.2.0",
            "_model_name": "LayoutModel",
            "_view_count": null,
            "_view_module": "@jupyter-widgets/base",
            "_view_module_version": "1.2.0",
            "_view_name": "LayoutView",
            "align_content": null,
            "align_items": null,
            "align_self": null,
            "border": null,
            "bottom": null,
            "display": null,
            "flex": null,
            "flex_flow": null,
            "grid_area": null,
            "grid_auto_columns": null,
            "grid_auto_flow": null,
            "grid_auto_rows": null,
            "grid_column": null,
            "grid_gap": null,
            "grid_row": null,
            "grid_template_areas": null,
            "grid_template_columns": null,
            "grid_template_rows": null,
            "height": null,
            "justify_content": null,
            "justify_items": null,
            "left": null,
            "margin": null,
            "max_height": null,
            "max_width": null,
            "min_height": null,
            "min_width": null,
            "object_fit": null,
            "object_position": null,
            "order": null,
            "overflow": null,
            "overflow_x": null,
            "overflow_y": null,
            "padding": null,
            "right": null,
            "top": null,
            "visibility": null,
            "width": null
          }
        },
        "001d85287d7741669ff484fd4bd9d32e": {
          "model_module": "@jupyter-widgets/controls",
          "model_name": "ProgressStyleModel",
          "model_module_version": "1.5.0",
          "state": {
            "_model_module": "@jupyter-widgets/controls",
            "_model_module_version": "1.5.0",
            "_model_name": "ProgressStyleModel",
            "_view_count": null,
            "_view_module": "@jupyter-widgets/base",
            "_view_module_version": "1.2.0",
            "_view_name": "StyleView",
            "bar_color": null,
            "description_width": ""
          }
        },
        "1c25a2f3a57741dfad7688e5500e6f7f": {
          "model_module": "@jupyter-widgets/base",
          "model_name": "LayoutModel",
          "model_module_version": "1.2.0",
          "state": {
            "_model_module": "@jupyter-widgets/base",
            "_model_module_version": "1.2.0",
            "_model_name": "LayoutModel",
            "_view_count": null,
            "_view_module": "@jupyter-widgets/base",
            "_view_module_version": "1.2.0",
            "_view_name": "LayoutView",
            "align_content": null,
            "align_items": null,
            "align_self": null,
            "border": null,
            "bottom": null,
            "display": null,
            "flex": null,
            "flex_flow": null,
            "grid_area": null,
            "grid_auto_columns": null,
            "grid_auto_flow": null,
            "grid_auto_rows": null,
            "grid_column": null,
            "grid_gap": null,
            "grid_row": null,
            "grid_template_areas": null,
            "grid_template_columns": null,
            "grid_template_rows": null,
            "height": null,
            "justify_content": null,
            "justify_items": null,
            "left": null,
            "margin": null,
            "max_height": null,
            "max_width": null,
            "min_height": null,
            "min_width": null,
            "object_fit": null,
            "object_position": null,
            "order": null,
            "overflow": null,
            "overflow_x": null,
            "overflow_y": null,
            "padding": null,
            "right": null,
            "top": null,
            "visibility": null,
            "width": null
          }
        },
        "ca430232a17048af812a37e74e23d175": {
          "model_module": "@jupyter-widgets/controls",
          "model_name": "DescriptionStyleModel",
          "model_module_version": "1.5.0",
          "state": {
            "_model_module": "@jupyter-widgets/controls",
            "_model_module_version": "1.5.0",
            "_model_name": "DescriptionStyleModel",
            "_view_count": null,
            "_view_module": "@jupyter-widgets/base",
            "_view_module_version": "1.2.0",
            "_view_name": "StyleView",
            "description_width": ""
          }
        }
      }
    }
  },
  "cells": [
    {
      "cell_type": "code",
      "execution_count": null,
      "metadata": {
        "id": "8taNJhwhcTdX"
      },
      "outputs": [],
      "source": [
        "import pandas as pd\n",
        "from tqdm.notebook import tqdm\n",
        "import requests\n",
        "from bs4 import BeautifulSoup"
      ]
    },
    {
      "cell_type": "code",
      "source": [
        "data = pd.read_csv(\"moviename.csv\")"
      ],
      "metadata": {
        "id": "tfn0NflgcfIx"
      },
      "execution_count": null,
      "outputs": []
    },
    {
      "cell_type": "code",
      "source": [
        "data.head(20)"
      ],
      "metadata": {
        "colab": {
          "base_uri": "https://localhost:8080/",
          "height": 677
        },
        "id": "Hh13vpw-cne3",
        "outputId": "e4c452d4-3ddf-430f-fe0d-009dd094ad2a"
      },
      "execution_count": null,
      "outputs": [
        {
          "output_type": "execute_result",
          "data": {
            "text/plain": [
              "                                                Title  \\\n",
              "0                          Bhaktha Chetha (1940 film)   \n",
              "1                                       G. Ramanathan   \n",
              "2                              Chandraguptha Chanakya   \n",
              "3                                   C. N. Pandurangan   \n",
              "4                                      B. R. Panthulu   \n",
              "5                                      T. R. Sundaram   \n",
              "6                                            Jayakodi   \n",
              "7                                           Kalamegam   \n",
              "8                                    Krishnan Thoothu   \n",
              "9                                     Papanasam Sivan   \n",
              "10  Meenakshi Kalyanam (1940 film) (page does not ...   \n",
              "11                                     N. S. Krishnan   \n",
              "12                              Naveena Vikramadityan   \n",
              "13                                     Kiratha Arjuna   \n",
              "14      Parasuramar (1940 film) (page does not exist)   \n",
              "15                                    A. V. Meiyappan   \n",
              "16                                     T. R. Sundaram   \n",
              "17                                         Sakuntalai   \n",
              "18                                     T. R. Sundaram   \n",
              "19                                       Sathi Murali   \n",
              "\n",
              "                                                 Link  \n",
              "0                    /wiki/Bhaktha_Chetha_(1940_film)  \n",
              "1                                 /wiki/G._Ramanathan  \n",
              "2                        /wiki/Chandraguptha_Chanakya  \n",
              "3                             /wiki/C._N._Pandurangan  \n",
              "4                                /wiki/B._R._Panthulu  \n",
              "5                                /wiki/T._R._Sundaram  \n",
              "6                                      /wiki/Jayakodi  \n",
              "7                                     /wiki/Kalamegam  \n",
              "8                              /wiki/Krishnan_Thoothu  \n",
              "9                               /wiki/Papanasam_Sivan  \n",
              "10  /w/index.php?title=Meenakshi_Kalyanam_(1940_fi...  \n",
              "11                               /wiki/N._S._Krishnan  \n",
              "12                        /wiki/Naveena_Vikramadityan  \n",
              "13                               /wiki/Kiratha_Arjuna  \n",
              "14  /w/index.php?title=Parasuramar_(1940_film)&act...  \n",
              "15                              /wiki/A._V._Meiyappan  \n",
              "16                               /wiki/T._R._Sundaram  \n",
              "17                                   /wiki/Sakuntalai  \n",
              "18                               /wiki/T._R._Sundaram  \n",
              "19                                 /wiki/Sathi_Murali  "
            ],
            "text/html": [
              "\n",
              "  <div id=\"df-7931d65e-69f3-4135-b8dc-98117745034b\">\n",
              "    <div class=\"colab-df-container\">\n",
              "      <div>\n",
              "<style scoped>\n",
              "    .dataframe tbody tr th:only-of-type {\n",
              "        vertical-align: middle;\n",
              "    }\n",
              "\n",
              "    .dataframe tbody tr th {\n",
              "        vertical-align: top;\n",
              "    }\n",
              "\n",
              "    .dataframe thead th {\n",
              "        text-align: right;\n",
              "    }\n",
              "</style>\n",
              "<table border=\"1\" class=\"dataframe\">\n",
              "  <thead>\n",
              "    <tr style=\"text-align: right;\">\n",
              "      <th></th>\n",
              "      <th>Title</th>\n",
              "      <th>Link</th>\n",
              "    </tr>\n",
              "  </thead>\n",
              "  <tbody>\n",
              "    <tr>\n",
              "      <th>0</th>\n",
              "      <td>Bhaktha Chetha (1940 film)</td>\n",
              "      <td>/wiki/Bhaktha_Chetha_(1940_film)</td>\n",
              "    </tr>\n",
              "    <tr>\n",
              "      <th>1</th>\n",
              "      <td>G. Ramanathan</td>\n",
              "      <td>/wiki/G._Ramanathan</td>\n",
              "    </tr>\n",
              "    <tr>\n",
              "      <th>2</th>\n",
              "      <td>Chandraguptha Chanakya</td>\n",
              "      <td>/wiki/Chandraguptha_Chanakya</td>\n",
              "    </tr>\n",
              "    <tr>\n",
              "      <th>3</th>\n",
              "      <td>C. N. Pandurangan</td>\n",
              "      <td>/wiki/C._N._Pandurangan</td>\n",
              "    </tr>\n",
              "    <tr>\n",
              "      <th>4</th>\n",
              "      <td>B. R. Panthulu</td>\n",
              "      <td>/wiki/B._R._Panthulu</td>\n",
              "    </tr>\n",
              "    <tr>\n",
              "      <th>5</th>\n",
              "      <td>T. R. Sundaram</td>\n",
              "      <td>/wiki/T._R._Sundaram</td>\n",
              "    </tr>\n",
              "    <tr>\n",
              "      <th>6</th>\n",
              "      <td>Jayakodi</td>\n",
              "      <td>/wiki/Jayakodi</td>\n",
              "    </tr>\n",
              "    <tr>\n",
              "      <th>7</th>\n",
              "      <td>Kalamegam</td>\n",
              "      <td>/wiki/Kalamegam</td>\n",
              "    </tr>\n",
              "    <tr>\n",
              "      <th>8</th>\n",
              "      <td>Krishnan Thoothu</td>\n",
              "      <td>/wiki/Krishnan_Thoothu</td>\n",
              "    </tr>\n",
              "    <tr>\n",
              "      <th>9</th>\n",
              "      <td>Papanasam Sivan</td>\n",
              "      <td>/wiki/Papanasam_Sivan</td>\n",
              "    </tr>\n",
              "    <tr>\n",
              "      <th>10</th>\n",
              "      <td>Meenakshi Kalyanam (1940 film) (page does not ...</td>\n",
              "      <td>/w/index.php?title=Meenakshi_Kalyanam_(1940_fi...</td>\n",
              "    </tr>\n",
              "    <tr>\n",
              "      <th>11</th>\n",
              "      <td>N. S. Krishnan</td>\n",
              "      <td>/wiki/N._S._Krishnan</td>\n",
              "    </tr>\n",
              "    <tr>\n",
              "      <th>12</th>\n",
              "      <td>Naveena Vikramadityan</td>\n",
              "      <td>/wiki/Naveena_Vikramadityan</td>\n",
              "    </tr>\n",
              "    <tr>\n",
              "      <th>13</th>\n",
              "      <td>Kiratha Arjuna</td>\n",
              "      <td>/wiki/Kiratha_Arjuna</td>\n",
              "    </tr>\n",
              "    <tr>\n",
              "      <th>14</th>\n",
              "      <td>Parasuramar (1940 film) (page does not exist)</td>\n",
              "      <td>/w/index.php?title=Parasuramar_(1940_film)&amp;act...</td>\n",
              "    </tr>\n",
              "    <tr>\n",
              "      <th>15</th>\n",
              "      <td>A. V. Meiyappan</td>\n",
              "      <td>/wiki/A._V._Meiyappan</td>\n",
              "    </tr>\n",
              "    <tr>\n",
              "      <th>16</th>\n",
              "      <td>T. R. Sundaram</td>\n",
              "      <td>/wiki/T._R._Sundaram</td>\n",
              "    </tr>\n",
              "    <tr>\n",
              "      <th>17</th>\n",
              "      <td>Sakuntalai</td>\n",
              "      <td>/wiki/Sakuntalai</td>\n",
              "    </tr>\n",
              "    <tr>\n",
              "      <th>18</th>\n",
              "      <td>T. R. Sundaram</td>\n",
              "      <td>/wiki/T._R._Sundaram</td>\n",
              "    </tr>\n",
              "    <tr>\n",
              "      <th>19</th>\n",
              "      <td>Sathi Murali</td>\n",
              "      <td>/wiki/Sathi_Murali</td>\n",
              "    </tr>\n",
              "  </tbody>\n",
              "</table>\n",
              "</div>\n",
              "      <button class=\"colab-df-convert\" onclick=\"convertToInteractive('df-7931d65e-69f3-4135-b8dc-98117745034b')\"\n",
              "              title=\"Convert this dataframe to an interactive table.\"\n",
              "              style=\"display:none;\">\n",
              "        \n",
              "  <svg xmlns=\"http://www.w3.org/2000/svg\" height=\"24px\"viewBox=\"0 0 24 24\"\n",
              "       width=\"24px\">\n",
              "    <path d=\"M0 0h24v24H0V0z\" fill=\"none\"/>\n",
              "    <path d=\"M18.56 5.44l.94 2.06.94-2.06 2.06-.94-2.06-.94-.94-2.06-.94 2.06-2.06.94zm-11 1L8.5 8.5l.94-2.06 2.06-.94-2.06-.94L8.5 2.5l-.94 2.06-2.06.94zm10 10l.94 2.06.94-2.06 2.06-.94-2.06-.94-.94-2.06-.94 2.06-2.06.94z\"/><path d=\"M17.41 7.96l-1.37-1.37c-.4-.4-.92-.59-1.43-.59-.52 0-1.04.2-1.43.59L10.3 9.45l-7.72 7.72c-.78.78-.78 2.05 0 2.83L4 21.41c.39.39.9.59 1.41.59.51 0 1.02-.2 1.41-.59l7.78-7.78 2.81-2.81c.8-.78.8-2.07 0-2.86zM5.41 20L4 18.59l7.72-7.72 1.47 1.35L5.41 20z\"/>\n",
              "  </svg>\n",
              "      </button>\n",
              "      \n",
              "  <style>\n",
              "    .colab-df-container {\n",
              "      display:flex;\n",
              "      flex-wrap:wrap;\n",
              "      gap: 12px;\n",
              "    }\n",
              "\n",
              "    .colab-df-convert {\n",
              "      background-color: #E8F0FE;\n",
              "      border: none;\n",
              "      border-radius: 50%;\n",
              "      cursor: pointer;\n",
              "      display: none;\n",
              "      fill: #1967D2;\n",
              "      height: 32px;\n",
              "      padding: 0 0 0 0;\n",
              "      width: 32px;\n",
              "    }\n",
              "\n",
              "    .colab-df-convert:hover {\n",
              "      background-color: #E2EBFA;\n",
              "      box-shadow: 0px 1px 2px rgba(60, 64, 67, 0.3), 0px 1px 3px 1px rgba(60, 64, 67, 0.15);\n",
              "      fill: #174EA6;\n",
              "    }\n",
              "\n",
              "    [theme=dark] .colab-df-convert {\n",
              "      background-color: #3B4455;\n",
              "      fill: #D2E3FC;\n",
              "    }\n",
              "\n",
              "    [theme=dark] .colab-df-convert:hover {\n",
              "      background-color: #434B5C;\n",
              "      box-shadow: 0px 1px 3px 1px rgba(0, 0, 0, 0.15);\n",
              "      filter: drop-shadow(0px 1px 2px rgba(0, 0, 0, 0.3));\n",
              "      fill: #FFFFFF;\n",
              "    }\n",
              "  </style>\n",
              "\n",
              "      <script>\n",
              "        const buttonEl =\n",
              "          document.querySelector('#df-7931d65e-69f3-4135-b8dc-98117745034b button.colab-df-convert');\n",
              "        buttonEl.style.display =\n",
              "          google.colab.kernel.accessAllowed ? 'block' : 'none';\n",
              "\n",
              "        async function convertToInteractive(key) {\n",
              "          const element = document.querySelector('#df-7931d65e-69f3-4135-b8dc-98117745034b');\n",
              "          const dataTable =\n",
              "            await google.colab.kernel.invokeFunction('convertToInteractive',\n",
              "                                                     [key], {});\n",
              "          if (!dataTable) return;\n",
              "\n",
              "          const docLinkHtml = 'Like what you see? Visit the ' +\n",
              "            '<a target=\"_blank\" href=https://colab.research.google.com/notebooks/data_table.ipynb>data table notebook</a>'\n",
              "            + ' to learn more about interactive tables.';\n",
              "          element.innerHTML = '';\n",
              "          dataTable['output_type'] = 'display_data';\n",
              "          await google.colab.output.renderOutput(dataTable, element);\n",
              "          const docLink = document.createElement('div');\n",
              "          docLink.innerHTML = docLinkHtml;\n",
              "          element.appendChild(docLink);\n",
              "        }\n",
              "      </script>\n",
              "    </div>\n",
              "  </div>\n",
              "  "
            ]
          },
          "metadata": {},
          "execution_count": 69
        }
      ]
    },
    {
      "cell_type": "code",
      "source": [
        "data.info()"
      ],
      "metadata": {
        "colab": {
          "base_uri": "https://localhost:8080/"
        },
        "id": "kgRb2r0rco9X",
        "outputId": "f598cc95-26d9-4900-ac14-7a15953f6bb6"
      },
      "execution_count": null,
      "outputs": [
        {
          "output_type": "stream",
          "name": "stdout",
          "text": [
            "<class 'pandas.core.frame.DataFrame'>\n",
            "RangeIndex: 7071 entries, 0 to 7070\n",
            "Data columns (total 2 columns):\n",
            " #   Column  Non-Null Count  Dtype \n",
            "---  ------  --------------  ----- \n",
            " 0   Title   7071 non-null   object\n",
            " 1   Link    7071 non-null   object\n",
            "dtypes: object(2)\n",
            "memory usage: 110.6+ KB\n"
          ]
        }
      ]
    },
    {
      "cell_type": "code",
      "source": [
        "data = data.drop_duplicates()"
      ],
      "metadata": {
        "id": "AM2zsXsZdVKQ"
      },
      "execution_count": null,
      "outputs": []
    },
    {
      "cell_type": "code",
      "source": [
        "data.info()"
      ],
      "metadata": {
        "colab": {
          "base_uri": "https://localhost:8080/"
        },
        "id": "8kcp0PzmdYcg",
        "outputId": "92bd18b7-40c7-4ee1-b374-9f3e37519c84"
      },
      "execution_count": null,
      "outputs": [
        {
          "output_type": "stream",
          "name": "stdout",
          "text": [
            "<class 'pandas.core.frame.DataFrame'>\n",
            "Int64Index: 6721 entries, 0 to 7070\n",
            "Data columns (total 2 columns):\n",
            " #   Column  Non-Null Count  Dtype \n",
            "---  ------  --------------  ----- \n",
            " 0   Title   6721 non-null   object\n",
            " 1   Link    6721 non-null   object\n",
            "dtypes: object(2)\n",
            "memory usage: 157.5+ KB\n"
          ]
        }
      ]
    },
    {
      "cell_type": "code",
      "source": [
        "n = 6680\n",
        "tdt = data[n:n+1].values\n",
        "tdt"
      ],
      "metadata": {
        "colab": {
          "base_uri": "https://localhost:8080/"
        },
        "id": "7EHpBvaJdb9w",
        "outputId": "995be1e1-b63e-4f87-b193-b5f3f1e22b3f"
      },
      "execution_count": null,
      "outputs": [
        {
          "output_type": "execute_result",
          "data": {
            "text/plain": [
              "array([['Ayothi', '/wiki/Ayothi']], dtype=object)"
            ]
          },
          "metadata": {},
          "execution_count": 303
        }
      ]
    },
    {
      "cell_type": "code",
      "source": [
        "tdt[0][1]"
      ],
      "metadata": {
        "colab": {
          "base_uri": "https://localhost:8080/",
          "height": 35
        },
        "id": "hnYQszPQeEjp",
        "outputId": "a84c7976-4767-4b41-94d1-686b00097d06"
      },
      "execution_count": null,
      "outputs": [
        {
          "output_type": "execute_result",
          "data": {
            "text/plain": [
              "'/wiki/Ayothi'"
            ],
            "application/vnd.google.colaboratory.intrinsic+json": {
              "type": "string"
            }
          },
          "metadata": {},
          "execution_count": 304
        }
      ]
    },
    {
      "cell_type": "code",
      "source": [
        "lnd = len(data)\n",
        "lnd"
      ],
      "metadata": {
        "colab": {
          "base_uri": "https://localhost:8080/"
        },
        "id": "fKsDWwrfIjp9",
        "outputId": "1bbee9fa-0bb3-4d82-c457-311ce1b6abd9"
      },
      "execution_count": null,
      "outputs": [
        {
          "output_type": "execute_result",
          "data": {
            "text/plain": [
              "6721"
            ]
          },
          "metadata": {},
          "execution_count": 73
        }
      ]
    },
    {
      "cell_type": "code",
      "source": [
        "movie_data = [[\"Title\",\"wiki_url\",\"img_url\",\"Plot\",\"Starring\",\"Director\",\"Writer\",\"cinematographer\",\"music\",\"country\",\"language\"]]"
      ],
      "metadata": {
        "id": "AKf7SjrhJlAG"
      },
      "execution_count": null,
      "outputs": []
    },
    {
      "cell_type": "code",
      "source": [
        "error_data = []\n",
        "plot_balance = []"
      ],
      "metadata": {
        "id": "SvHIxrkEJuzU"
      },
      "execution_count": null,
      "outputs": []
    },
    {
      "cell_type": "code",
      "source": [
        "for i in tqdm(range(lnd)):\n",
        "  try:\n",
        "    tdt = data[i:i+1].values\n",
        "    url = 'https://en.wikipedia.org'+tdt[0][1]\n",
        "    response = requests.get(url)\n",
        "    html = response.content\n",
        "    soup = BeautifulSoup(html, \"html.parser\")\n",
        "    if response == 404:\n",
        "      print(tdt[0][0])\n",
        "      pass\n",
        "    try:\n",
        "      movbox = soup.find(\"table\", {\"class\": \"infobox vevent\"})\n",
        "      if movbox is not None:\n",
        "        l = movbox.find(\"a\",{'class':'image'})\n",
        "        st = []\n",
        "        u = l.find(\"img\")['src']\n",
        "        image = \"https:\"+u+\" \"\n",
        "        dt = movbox.find_all(\"tr\")\n",
        "        lit = [\"Directed by\",\"Written by\",\"Cinematography\",\"Music by\",\"Country\",\"Language\",\"Starring\",\"Release date\"]\n",
        "        for op in dt:\n",
        "          il = op.find(\"th\",{'class':'infobox-label'})\n",
        "          id = op.find(\"td\",{'class':'infobox-data'})\n",
        "          if id is not None and il is not None:\n",
        "            if il.text in lit:\n",
        "              if il.text == \"Starring\":\n",
        "                uv = id.find_all(\"a\")\n",
        "                for m in uv:\n",
        "                  st.append(m.text)\n",
        "              elif il.text == \"Release date\":\n",
        "                try:\n",
        "                  date = id.find(\"li\").text\n",
        "                except:\n",
        "                  date = \"Date Not Found\"\n",
        "              elif il.text == \"Directed by\":\n",
        "                director = id.text\n",
        "              elif il.text == \"Written by\":\n",
        "                writer = id.text\n",
        "              elif il.text == \"Cinematography\":\n",
        "                cinematographer = id.text\n",
        "              elif il.text == \"Music by\":\n",
        "                music = id.text\n",
        "              elif il.text == \"Country\":\n",
        "                country = id.text\n",
        "              elif il.text == \"Language\":\n",
        "                language = id.text\n",
        "              else:\n",
        "                print(il.text) \n",
        "        try:\n",
        "          plot_section = soup.find('span',{'id':'Plot'})\n",
        "          plot_text = ''\n",
        "          for element in plot_section.findAllNext():\n",
        "            if element.name == 'h2':\n",
        "              break\n",
        "            if element.name == 'p':\n",
        "              plot_text += element.text\n",
        "          movie_data.append([tdt[0][0],url,image,plot_text,st,director,writer,cinematographer,music,country,language])\n",
        "        except:\n",
        "          plot_balance.append(tdt[0][0])\n",
        "    except:\n",
        "      error_data.append([tdt[0][0],tdt[0][1]])    \n",
        "  except:\n",
        "    print(\"request error \",tdt[0][0],tdt[0][1])\n",
        "      \n",
        "  "
      ],
      "metadata": {
        "colab": {
          "base_uri": "https://localhost:8080/",
          "height": 191,
          "referenced_widgets": [
            "26a2c489d9b14bda8886ecf5ead3059b",
            "0e1357d6d5864993bbc70541ed1eee15",
            "5a9bad9b0e8c4545ae1060a7a5cd1629",
            "1c9a433efb5a446b9dccad4e153c293b",
            "e032efd8c52c460eb14a9901650afd8e",
            "f86c341fefdb447eaea2361f95361067",
            "575df1dfa96140d088781a5ad959dfc7",
            "ce101ff4181c44d7b62d00fb43b03af5",
            "001d85287d7741669ff484fd4bd9d32e",
            "1c25a2f3a57741dfad7688e5500e6f7f",
            "ca430232a17048af812a37e74e23d175"
          ]
        },
        "id": "WorxqHN5Io19",
        "outputId": "36a58123-cdb3-4c87-afc0-950c3a615741"
      },
      "execution_count": null,
      "outputs": [
        {
          "output_type": "display_data",
          "data": {
            "text/plain": [
              "  0%|          | 0/6721 [00:00<?, ?it/s]"
            ],
            "application/vnd.jupyter.widget-view+json": {
              "version_major": 2,
              "version_minor": 0,
              "model_id": "26a2c489d9b14bda8886ecf5ead3059b"
            }
          },
          "metadata": {}
        },
        {
          "output_type": "stream",
          "name": "stdout",
          "text": [
            "request error  ta:போஜன் (திரைப்படம்) https://ta.wikipedia.org/wiki/%E0%AE%AA%E0%AF%8B%E0%AE%9C%E0%AE%A9%E0%AF%8D_(%E0%AE%A4%E0%AE%BF%E0%AE%B0%E0%AF%88%E0%AE%AA%E0%AF%8D%E0%AE%AA%E0%AE%9F%E0%AE%AE%E0%AF%8D)\n",
            "request error  ta:பிரம்மரிஷி விஷ்வாமித்திரா https://ta.wikipedia.org/wiki/%E0%AE%AA%E0%AE%BF%E0%AE%B0%E0%AE%AE%E0%AF%8D%E0%AE%AE%E0%AE%B0%E0%AE%BF%E0%AE%B7%E0%AE%BF_%E0%AE%B5%E0%AE%BF%E0%AE%B7%E0%AF%8D%E0%AE%B5%E0%AE%BE%E0%AE%AE%E0%AE%BF%E0%AE%A4%E0%AF%8D%E0%AE%A4%E0%AE%BF%E0%AE%B0%E0%AE%BE\n",
            "request error  ta:புரட்சி வீரன் https://ta.wikipedia.org/wiki/%E0%AE%AA%E0%AF%81%E0%AE%B0%E0%AE%9F%E0%AF%8D%E0%AE%9A%E0%AE%BF_%E0%AE%B5%E0%AF%80%E0%AE%B0%E0%AE%A9%E0%AF%8D\n",
            "request error  ta:மனோரதம் https://ta.wikipedia.org/wiki/%E0%AE%AE%E0%AE%A9%E0%AF%8B%E0%AE%B0%E0%AE%A4%E0%AE%AE%E0%AF%8D\n",
            "request error  ta:மகா பாரதம் (திரைப்படம்) https://ta.wikipedia.org/wiki/%E0%AE%AE%E0%AE%95%E0%AE%BE_%E0%AE%AA%E0%AE%BE%E0%AE%B0%E0%AE%A4%E0%AE%AE%E0%AF%8D_(%E0%AE%A4%E0%AE%BF%E0%AE%B0%E0%AF%88%E0%AE%AA%E0%AF%8D%E0%AE%AA%E0%AE%9F%E0%AE%AE%E0%AF%8D)\n",
            "request error  ta:புதிய மனிதன் https://ta.wikipedia.org/wiki/%E0%AE%AA%E0%AF%81%E0%AE%A4%E0%AE%BF%E0%AE%AF_%E0%AE%AE%E0%AE%A9%E0%AE%BF%E0%AE%A4%E0%AE%A9%E0%AF%8D\n",
            "request error  ta:தங்க வளையல் https://ta.wikipedia.org/wiki/%E0%AE%A4%E0%AE%99%E0%AF%8D%E0%AE%95_%E0%AE%B5%E0%AE%B3%E0%AF%88%E0%AE%AF%E0%AE%B2%E0%AF%8D\n"
          ]
        }
      ]
    },
    {
      "cell_type": "code",
      "source": [
        "len(error_data),len(plot_balance)"
      ],
      "metadata": {
        "colab": {
          "base_uri": "https://localhost:8080/"
        },
        "id": "CgLxxgB7Pjfd",
        "outputId": "64e96a62-a462-4db2-fc00-2b53a2587dc2"
      },
      "execution_count": null,
      "outputs": [
        {
          "output_type": "execute_result",
          "data": {
            "text/plain": [
              "(1094, 507)"
            ]
          },
          "metadata": {},
          "execution_count": 127
        }
      ]
    },
    {
      "cell_type": "code",
      "source": [
        "import csv\n",
        "with open(\"plotndata.csv\", \"w\", newline=\"\") as csvfile:\n",
        "    writer = csv.writer(csvfile)\n",
        "    for row in plot_balance:\n",
        "        writer.writerow(row)"
      ],
      "metadata": {
        "id": "_opvWuYltRpE"
      },
      "execution_count": null,
      "outputs": []
    },
    {
      "cell_type": "code",
      "source": [
        "print(len(movie_data))"
      ],
      "metadata": {
        "colab": {
          "base_uri": "https://localhost:8080/"
        },
        "id": "BYROJTeXNKam",
        "outputId": "aedbafb3-29d0-4456-ea80-7f479100fdc7"
      },
      "execution_count": null,
      "outputs": [
        {
          "output_type": "stream",
          "name": "stdout",
          "text": [
            "3588\n"
          ]
        }
      ]
    },
    {
      "cell_type": "code",
      "source": [
        "import csv\n",
        "with open(\"moviedata.csv\", \"w\", newline=\"\") as csvfile:\n",
        "    writer = csv.writer(csvfile)\n",
        "    for row in movie_data:\n",
        "        writer.writerow(row)"
      ],
      "metadata": {
        "id": "ccaZOC3eTWIV"
      },
      "execution_count": null,
      "outputs": []
    },
    {
      "cell_type": "code",
      "source": [
        "datacheck = pd.read_csv(\"moviedata.csv\")"
      ],
      "metadata": {
        "id": "c83GYBXqTdb1"
      },
      "execution_count": null,
      "outputs": []
    },
    {
      "cell_type": "code",
      "source": [
        "datacheck.head(5)"
      ],
      "metadata": {
        "colab": {
          "base_uri": "https://localhost:8080/",
          "height": 565
        },
        "id": "SfHZ3uNSTjzb",
        "outputId": "87fe8d9f-9fc7-49fd-af45-64a02ab3814c"
      },
      "execution_count": null,
      "outputs": [
        {
          "output_type": "execute_result",
          "data": {
            "text/plain": [
              "                        Title  \\\n",
              "0  Bhaktha Chetha (1940 film)   \n",
              "1                    Jayakodi   \n",
              "2                   Kalamegam   \n",
              "3            Krishnan Thoothu   \n",
              "4       Naveena Vikramadityan   \n",
              "\n",
              "                                            wiki_url  \\\n",
              "0  https://en.wikipedia.org/wiki/Bhaktha_Chetha_(...   \n",
              "1             https://en.wikipedia.org/wiki/Jayakodi   \n",
              "2            https://en.wikipedia.org/wiki/Kalamegam   \n",
              "3     https://en.wikipedia.org/wiki/Krishnan_Thoothu   \n",
              "4  https://en.wikipedia.org/wiki/Naveena_Vikramad...   \n",
              "\n",
              "                                             img_url  \\\n",
              "0  https://upload.wikimedia.org/wikipedia/en/thum...   \n",
              "1  https://upload.wikimedia.org/wikipedia/en/f/fe...   \n",
              "2  https://upload.wikimedia.org/wikipedia/en/e/e1...   \n",
              "3  https://upload.wikimedia.org/wikipedia/commons...   \n",
              "4  https://upload.wikimedia.org/wikipedia/commons...   \n",
              "\n",
              "                                                Plot  \\\n",
              "0  Chetha (Papanasam Sivan) is a cobbler of a low...   \n",
              "1  Rajam, an impoverished Brahmin girl, is unmarr...   \n",
              "2  Kalamegam is based on the life of 15th century...   \n",
              "3  The story of the film was of the history of Lo...   \n",
              "4  In the film, N. S. Krishnan used to give music...   \n",
              "\n",
              "                                            Starring  \\\n",
              "0         ['Papanasam Sivan', 'Kothamangalam Subbu']   \n",
              "1                                                 []   \n",
              "2                                                 []   \n",
              "3                                                 []   \n",
              "4  ['N. S. Krishnan', 'T. A. Mathuram', 'T. S. Du...   \n",
              "\n",
              "                           Director                       Writer  \\\n",
              "0                   K. Subrahmanyam  K. Subrahmanyam (dialogues)   \n",
              "1                      Bhagwan Dada  K. Subrahmanyam (dialogues)   \n",
              "2  Ellis R. DunganWilliam J. Moylan        Puduvai Bharathidasan   \n",
              "3                        R. Prakash        Puduvai Bharathidasan   \n",
              "4                        K. S. Mani        Puduvai Bharathidasan   \n",
              "\n",
              "  cinematographer                           music country language  \n",
              "0     Kamal Ghosh  V. S. Parthasarathy Iyengar[1]   India    Tamil  \n",
              "1       Ahmedulla                   C. Ramchandra   India    Tamil  \n",
              "2  V. Namasivayam                 R. N. Chinnaiah   India    Tamil  \n",
              "3     Kamal Ghosh                 R. N. Chinnaiah   India    Tamil  \n",
              "4     Kamal Ghosh              N. S. Balakrishnan   India    Tamil  "
            ],
            "text/html": [
              "\n",
              "  <div id=\"df-c6062ca5-f2a7-4f8a-9546-9437ec18b361\">\n",
              "    <div class=\"colab-df-container\">\n",
              "      <div>\n",
              "<style scoped>\n",
              "    .dataframe tbody tr th:only-of-type {\n",
              "        vertical-align: middle;\n",
              "    }\n",
              "\n",
              "    .dataframe tbody tr th {\n",
              "        vertical-align: top;\n",
              "    }\n",
              "\n",
              "    .dataframe thead th {\n",
              "        text-align: right;\n",
              "    }\n",
              "</style>\n",
              "<table border=\"1\" class=\"dataframe\">\n",
              "  <thead>\n",
              "    <tr style=\"text-align: right;\">\n",
              "      <th></th>\n",
              "      <th>Title</th>\n",
              "      <th>wiki_url</th>\n",
              "      <th>img_url</th>\n",
              "      <th>Plot</th>\n",
              "      <th>Starring</th>\n",
              "      <th>Director</th>\n",
              "      <th>Writer</th>\n",
              "      <th>cinematographer</th>\n",
              "      <th>music</th>\n",
              "      <th>country</th>\n",
              "      <th>language</th>\n",
              "    </tr>\n",
              "  </thead>\n",
              "  <tbody>\n",
              "    <tr>\n",
              "      <th>0</th>\n",
              "      <td>Bhaktha Chetha (1940 film)</td>\n",
              "      <td>https://en.wikipedia.org/wiki/Bhaktha_Chetha_(...</td>\n",
              "      <td>https://upload.wikimedia.org/wikipedia/en/thum...</td>\n",
              "      <td>Chetha (Papanasam Sivan) is a cobbler of a low...</td>\n",
              "      <td>['Papanasam Sivan', 'Kothamangalam Subbu']</td>\n",
              "      <td>K. Subrahmanyam</td>\n",
              "      <td>K. Subrahmanyam (dialogues)</td>\n",
              "      <td>Kamal Ghosh</td>\n",
              "      <td>V. S. Parthasarathy Iyengar[1]</td>\n",
              "      <td>India</td>\n",
              "      <td>Tamil</td>\n",
              "    </tr>\n",
              "    <tr>\n",
              "      <th>1</th>\n",
              "      <td>Jayakodi</td>\n",
              "      <td>https://en.wikipedia.org/wiki/Jayakodi</td>\n",
              "      <td>https://upload.wikimedia.org/wikipedia/en/f/fe...</td>\n",
              "      <td>Rajam, an impoverished Brahmin girl, is unmarr...</td>\n",
              "      <td>[]</td>\n",
              "      <td>Bhagwan Dada</td>\n",
              "      <td>K. Subrahmanyam (dialogues)</td>\n",
              "      <td>Ahmedulla</td>\n",
              "      <td>C. Ramchandra</td>\n",
              "      <td>India</td>\n",
              "      <td>Tamil</td>\n",
              "    </tr>\n",
              "    <tr>\n",
              "      <th>2</th>\n",
              "      <td>Kalamegam</td>\n",
              "      <td>https://en.wikipedia.org/wiki/Kalamegam</td>\n",
              "      <td>https://upload.wikimedia.org/wikipedia/en/e/e1...</td>\n",
              "      <td>Kalamegam is based on the life of 15th century...</td>\n",
              "      <td>[]</td>\n",
              "      <td>Ellis R. DunganWilliam J. Moylan</td>\n",
              "      <td>Puduvai Bharathidasan</td>\n",
              "      <td>V. Namasivayam</td>\n",
              "      <td>R. N. Chinnaiah</td>\n",
              "      <td>India</td>\n",
              "      <td>Tamil</td>\n",
              "    </tr>\n",
              "    <tr>\n",
              "      <th>3</th>\n",
              "      <td>Krishnan Thoothu</td>\n",
              "      <td>https://en.wikipedia.org/wiki/Krishnan_Thoothu</td>\n",
              "      <td>https://upload.wikimedia.org/wikipedia/commons...</td>\n",
              "      <td>The story of the film was of the history of Lo...</td>\n",
              "      <td>[]</td>\n",
              "      <td>R. Prakash</td>\n",
              "      <td>Puduvai Bharathidasan</td>\n",
              "      <td>Kamal Ghosh</td>\n",
              "      <td>R. N. Chinnaiah</td>\n",
              "      <td>India</td>\n",
              "      <td>Tamil</td>\n",
              "    </tr>\n",
              "    <tr>\n",
              "      <th>4</th>\n",
              "      <td>Naveena Vikramadityan</td>\n",
              "      <td>https://en.wikipedia.org/wiki/Naveena_Vikramad...</td>\n",
              "      <td>https://upload.wikimedia.org/wikipedia/commons...</td>\n",
              "      <td>In the film, N. S. Krishnan used to give music...</td>\n",
              "      <td>['N. S. Krishnan', 'T. A. Mathuram', 'T. S. Du...</td>\n",
              "      <td>K. S. Mani</td>\n",
              "      <td>Puduvai Bharathidasan</td>\n",
              "      <td>Kamal Ghosh</td>\n",
              "      <td>N. S. Balakrishnan</td>\n",
              "      <td>India</td>\n",
              "      <td>Tamil</td>\n",
              "    </tr>\n",
              "  </tbody>\n",
              "</table>\n",
              "</div>\n",
              "      <button class=\"colab-df-convert\" onclick=\"convertToInteractive('df-c6062ca5-f2a7-4f8a-9546-9437ec18b361')\"\n",
              "              title=\"Convert this dataframe to an interactive table.\"\n",
              "              style=\"display:none;\">\n",
              "        \n",
              "  <svg xmlns=\"http://www.w3.org/2000/svg\" height=\"24px\"viewBox=\"0 0 24 24\"\n",
              "       width=\"24px\">\n",
              "    <path d=\"M0 0h24v24H0V0z\" fill=\"none\"/>\n",
              "    <path d=\"M18.56 5.44l.94 2.06.94-2.06 2.06-.94-2.06-.94-.94-2.06-.94 2.06-2.06.94zm-11 1L8.5 8.5l.94-2.06 2.06-.94-2.06-.94L8.5 2.5l-.94 2.06-2.06.94zm10 10l.94 2.06.94-2.06 2.06-.94-2.06-.94-.94-2.06-.94 2.06-2.06.94z\"/><path d=\"M17.41 7.96l-1.37-1.37c-.4-.4-.92-.59-1.43-.59-.52 0-1.04.2-1.43.59L10.3 9.45l-7.72 7.72c-.78.78-.78 2.05 0 2.83L4 21.41c.39.39.9.59 1.41.59.51 0 1.02-.2 1.41-.59l7.78-7.78 2.81-2.81c.8-.78.8-2.07 0-2.86zM5.41 20L4 18.59l7.72-7.72 1.47 1.35L5.41 20z\"/>\n",
              "  </svg>\n",
              "      </button>\n",
              "      \n",
              "  <style>\n",
              "    .colab-df-container {\n",
              "      display:flex;\n",
              "      flex-wrap:wrap;\n",
              "      gap: 12px;\n",
              "    }\n",
              "\n",
              "    .colab-df-convert {\n",
              "      background-color: #E8F0FE;\n",
              "      border: none;\n",
              "      border-radius: 50%;\n",
              "      cursor: pointer;\n",
              "      display: none;\n",
              "      fill: #1967D2;\n",
              "      height: 32px;\n",
              "      padding: 0 0 0 0;\n",
              "      width: 32px;\n",
              "    }\n",
              "\n",
              "    .colab-df-convert:hover {\n",
              "      background-color: #E2EBFA;\n",
              "      box-shadow: 0px 1px 2px rgba(60, 64, 67, 0.3), 0px 1px 3px 1px rgba(60, 64, 67, 0.15);\n",
              "      fill: #174EA6;\n",
              "    }\n",
              "\n",
              "    [theme=dark] .colab-df-convert {\n",
              "      background-color: #3B4455;\n",
              "      fill: #D2E3FC;\n",
              "    }\n",
              "\n",
              "    [theme=dark] .colab-df-convert:hover {\n",
              "      background-color: #434B5C;\n",
              "      box-shadow: 0px 1px 3px 1px rgba(0, 0, 0, 0.15);\n",
              "      filter: drop-shadow(0px 1px 2px rgba(0, 0, 0, 0.3));\n",
              "      fill: #FFFFFF;\n",
              "    }\n",
              "  </style>\n",
              "\n",
              "      <script>\n",
              "        const buttonEl =\n",
              "          document.querySelector('#df-c6062ca5-f2a7-4f8a-9546-9437ec18b361 button.colab-df-convert');\n",
              "        buttonEl.style.display =\n",
              "          google.colab.kernel.accessAllowed ? 'block' : 'none';\n",
              "\n",
              "        async function convertToInteractive(key) {\n",
              "          const element = document.querySelector('#df-c6062ca5-f2a7-4f8a-9546-9437ec18b361');\n",
              "          const dataTable =\n",
              "            await google.colab.kernel.invokeFunction('convertToInteractive',\n",
              "                                                     [key], {});\n",
              "          if (!dataTable) return;\n",
              "\n",
              "          const docLinkHtml = 'Like what you see? Visit the ' +\n",
              "            '<a target=\"_blank\" href=https://colab.research.google.com/notebooks/data_table.ipynb>data table notebook</a>'\n",
              "            + ' to learn more about interactive tables.';\n",
              "          element.innerHTML = '';\n",
              "          dataTable['output_type'] = 'display_data';\n",
              "          await google.colab.output.renderOutput(dataTable, element);\n",
              "          const docLink = document.createElement('div');\n",
              "          docLink.innerHTML = docLinkHtml;\n",
              "          element.appendChild(docLink);\n",
              "        }\n",
              "      </script>\n",
              "    </div>\n",
              "  </div>\n",
              "  "
            ]
          },
          "metadata": {},
          "execution_count": 132
        }
      ]
    },
    {
      "cell_type": "code",
      "source": [
        "\"\"\"url = 'https://en.wikipedia.org'+tdt[0][1]\n",
        "print(url)\"\"\""
      ],
      "metadata": {
        "colab": {
          "base_uri": "https://localhost:8080/"
        },
        "id": "zJviYCa_dtBB",
        "outputId": "e5fa2841-b600-4e93-d7dc-0a42be49ce50"
      },
      "execution_count": null,
      "outputs": [
        {
          "output_type": "stream",
          "name": "stdout",
          "text": [
            "https://en.wikipedia.org/wiki/Ayothi\n"
          ]
        }
      ]
    },
    {
      "cell_type": "code",
      "source": [
        "response = requests.get(url)\n",
        "html = response.content\n",
        "soup = BeautifulSoup(html, \"html.parser\")"
      ],
      "metadata": {
        "id": "gZ7tnmaVeKPw"
      },
      "execution_count": null,
      "outputs": []
    },
    {
      "cell_type": "code",
      "source": [
        "response"
      ],
      "metadata": {
        "colab": {
          "base_uri": "https://localhost:8080/"
        },
        "id": "4DF29DPOksiH",
        "outputId": "01142eac-0985-4d90-81a8-3679dedc7a60"
      },
      "execution_count": null,
      "outputs": [
        {
          "output_type": "execute_result",
          "data": {
            "text/plain": [
              "<Response [200]>"
            ]
          },
          "metadata": {},
          "execution_count": 307
        }
      ]
    },
    {
      "cell_type": "code",
      "source": [
        "#soup"
      ],
      "metadata": {
        "id": "z-3jxdBVe7kH"
      },
      "execution_count": null,
      "outputs": []
    },
    {
      "cell_type": "code",
      "source": [
        "movbox = soup.find(\"table\", {\"class\": \"infobox vevent\"})"
      ],
      "metadata": {
        "id": "yUR3itSqfCGH"
      },
      "execution_count": null,
      "outputs": []
    },
    {
      "cell_type": "code",
      "source": [
        "if movbox is not None:\n",
        "  l = movbox.find(\"a\",{'class':'image'})\n",
        "  u = l.find(\"img\")['src']\n",
        "  print(\"https:\"+u)"
      ],
      "metadata": {
        "colab": {
          "base_uri": "https://localhost:8080/"
        },
        "id": "zW6RqYnUfRNP",
        "outputId": "09356fb1-f22d-47d0-f622-6d84dba1b101"
      },
      "execution_count": null,
      "outputs": [
        {
          "output_type": "stream",
          "name": "stdout",
          "text": [
            "https://upload.wikimedia.org/wikipedia/en/thumb/c/c5/Ayothi_Poster.jpeg/220px-Ayothi_Poster.jpeg\n"
          ]
        }
      ]
    },
    {
      "cell_type": "code",
      "source": [
        "dt = movbox.find_all(\"tr\")\n",
        "lit = [\"Directed by\",\"Written by\",\"Cinematography\",\"Music by\",\"Country\",\"Language\",\"Starring\",\"Release date\"]\n",
        "for i in dt:\n",
        "  il = i.find(\"th\",{'class':'infobox-label'})\n",
        "  id = i.find(\"td\",{'class':'infobox-data'})\n",
        "  if id is not None and il is not None:\n",
        "    if il.text in lit:\n",
        "      if il.text == \"Starring\":\n",
        "        print(\"Starring \",end=\"||| \")\n",
        "        uv = id.find_all(\"a\")\n",
        "        for m in uv:\n",
        "          print(m.text,end=\" , \")\n",
        "        print()\n",
        "      elif il.text == \"Release date\":\n",
        "        try:\n",
        "          print(\"Release Date \",end=\"||| \")\n",
        "          print(id.find(\"li\").text)\n",
        "        except:\n",
        "          print(\"Date Not Found\")\n",
        "      else:\n",
        "        print(il.text,\"|||\",id.text)"
      ],
      "metadata": {
        "colab": {
          "base_uri": "https://localhost:8080/"
        },
        "id": "5YewI83Dg1g_",
        "outputId": "ad35aa85-fc26-42bd-903b-13eed39ae9dd"
      },
      "execution_count": null,
      "outputs": [
        {
          "output_type": "stream",
          "name": "stdout",
          "text": [
            "Directed by ||| R. Manthira Moorthy\n",
            "Written by ||| R. Manthira Moorthy\n",
            "Starring ||| M. Sasikumar , Preethi Asrani , Yashpal Sharma , Pugazh , \n",
            "Cinematography ||| Madhesh Manickam\n",
            "Music by ||| N. R. Raghunanthan\n",
            "Release Date ||| 3 March 2023 (2023-03-03)\n",
            "Country ||| India\n",
            "Language ||| Tamil\n"
          ]
        }
      ]
    },
    {
      "cell_type": "code",
      "source": [
        "plot_section = soup.find('span',{'id':'Plot'})\n",
        "plot_text = ''\n",
        "for element in plot_section.findAllNext():\n",
        "    if element.name == 'h2':\n",
        "        break\n",
        "    if element.name == 'p':\n",
        "        plot_text += element.text"
      ],
      "metadata": {
        "id": "ua4sKAUh3M5l"
      },
      "execution_count": null,
      "outputs": []
    },
    {
      "cell_type": "code",
      "source": [
        "print(plot_text)"
      ],
      "metadata": {
        "colab": {
          "base_uri": "https://localhost:8080/"
        },
        "id": "Oioxy3qB3RuU",
        "outputId": "7b0a89c1-b475-4ff6-da07-53626d86b7bd"
      },
      "execution_count": null,
      "outputs": [
        {
          "output_type": "stream",
          "name": "stdout",
          "text": [
            "Balram (Yashpal Sharma) a conservative Ayodhya Hindu plans a pilgrimage to Rameshwaram along with his wife Janaki, daughter Shivani (Preethi Asrani), and son Sonu. On the way to Rameshwaram, Balram picks up a fight with the cab driver and this leads to an accident.\n",
            "Janaki is heavily injured and admitted to the ICU, and immediately requires to be shifted to another hospital to ensure survival. Balram and his children are helpless as they can't understand the language of the locals. A friend of the Cab Driver (M. Sasikumar) witnesses the helpless children who had just lost their mother and decides to help. He drives the ambulance to Madurai Government Hospital, but Janaki passes away en route. Balram opposes post-mortem on his wife, citing religious faith, and the ambulance drives to the airport. The ambulance driver is stopped by the airport authorities and the police, while the latter takes them to police station for inquiry on the death of Janaki. They are proven innocent and are taken to the mortuary for the post-mortem. The ambulance driver leaves them, but immediately returns after being moved by the helpless children.\n",
            "The ambulance driver gathers money for the flight and is able to book a ticket for Shivani. He manages to get the embalming done, despite protests from Balram. Balram is rebuked by Shivani for his attitude towards his wife when she was alive, and his hypocracy for hoping her to reach heaven by interfering with all the legal procedures required to reach home. Balram has a change of mind, and for the first time sheds tears for his wife's death.\n",
            "All the tickets for the flight to Lucknow were booked and Shivani has no choice but to reach Ayodhya alone along with the remains of her mother. The ambulance driver persuades the passengers that any two of them to withdraw their tickets and explains the situation. Two passengers understanding the situation, withdraw their tickets allowing Sonu and Balram to reach Ayodhya.\n",
            "At last, it is revealed that the ambulance driver was a Muslim named Abdul Malik. Balram lets go off his intolerance and hatred and thanks Abdul Malik for his timely help. The film ends with Abdul Malik helping a stranger perform the last rites of her mother.\n",
            "\n"
          ]
        }
      ]
    },
    {
      "cell_type": "code",
      "source": [],
      "metadata": {
        "id": "MGOKKgqp3Z4t"
      },
      "execution_count": null,
      "outputs": []
    }
  ]
}